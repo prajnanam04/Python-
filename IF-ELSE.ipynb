{
 "cells": [
  {
   "cell_type": "code",
   "execution_count": 4,
   "id": "f3130737",
   "metadata": {},
   "outputs": [
    {
     "name": "stdout",
     "output_type": "stream",
     "text": [
      "enter the mark: 98\n",
      "Prajnanam has passed in the exam\n"
     ]
    }
   ],
   "source": [
    "name = \"Prajnanam\"\n",
    "mark = int(input(\"enter the mark: \"))\n",
    "\n",
    "if mark < 45:\n",
    "    print(name, \"has failed in the exam\")\n",
    "        \n",
    "elif mark>=45:\n",
    "    print(name, \"has passed in the exam\")\n",
    "        \n",
    "else:\n",
    "    pass"
   ]
  },
  {
   "cell_type": "code",
   "execution_count": 6,
   "id": "47506eda",
   "metadata": {},
   "outputs": [
    {
     "name": "stdout",
     "output_type": "stream",
     "text": [
      "Not in range\n"
     ]
    }
   ],
   "source": [
    "x = 10  \n",
    "if 0 < x < 10: \n",
    "    print(\"In range A\")\n",
    "else:\n",
    "    print(\"Not in range\")"
   ]
  },
  {
   "cell_type": "code",
   "execution_count": 14,
   "id": "7c50f1b2",
   "metadata": {},
   "outputs": [
    {
     "name": "stdout",
     "output_type": "stream",
     "text": [
      "Enter a number: 55\n",
      "Number is divisible by 5 and 11\n"
     ]
    }
   ],
   "source": [
    "n = int(input(\"Enter a number: \"))\n",
    "if n % 5 == 0 and n % 11 == 0:\n",
    "        print(\"Number is divisible by 5 and 11\")\n",
    "else:\n",
    "        printf(\"Number is not divisible by 5 and 11\");\n",
    "    "
   ]
  },
  {
   "cell_type": "code",
   "execution_count": 11,
   "id": "3310e498",
   "metadata": {},
   "outputs": [
    {
     "name": "stdout",
     "output_type": "stream",
     "text": [
      "Enter the Number x: 34\n",
      "Enter the Number y: 23\n",
      "Enter the Number z: 190\n",
      "Largest:  190\n"
     ]
    }
   ],
   "source": [
    "x = int(input(\"Enter the Number x: \"))\n",
    "y = int(input(\"Enter the Number y: \"))\n",
    "z =  int(input(\"Enter the Number z: \"))\n",
    "if x >y and x>z: \n",
    "    print('Largest: ',x) \n",
    "elif y>x and y >z:\n",
    "    print('Largest: ',y) \n",
    "else: \n",
    "    print('Largest: ',z)\n"
   ]
  },
  {
   "cell_type": "code",
   "execution_count": null,
   "id": "f6d39c46",
   "metadata": {},
   "outputs": [],
   "source": []
  },
  {
   "cell_type": "code",
   "execution_count": null,
   "id": "42784e45",
   "metadata": {},
   "outputs": [],
   "source": []
  }
 ],
 "metadata": {
  "kernelspec": {
   "display_name": "Python 3 (ipykernel)",
   "language": "python",
   "name": "python3"
  },
  "language_info": {
   "codemirror_mode": {
    "name": "ipython",
    "version": 3
   },
   "file_extension": ".py",
   "mimetype": "text/x-python",
   "name": "python",
   "nbconvert_exporter": "python",
   "pygments_lexer": "ipython3",
   "version": "3.9.12"
  }
 },
 "nbformat": 4,
 "nbformat_minor": 5
}
