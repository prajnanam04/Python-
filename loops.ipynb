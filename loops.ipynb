{
 "cells": [
  {
   "cell_type": "code",
   "execution_count": 1,
   "id": "2f282b0e",
   "metadata": {},
   "outputs": [
    {
     "name": "stdout",
     "output_type": "stream",
     "text": [
      "1\n",
      "4\n",
      "27\n",
      "256\n",
      "3125\n"
     ]
    }
   ],
   "source": [
    "#for loop\n",
    "a = [1,2,3,4,5]\n",
    "for x in a:\n",
    "    print(x**x)\n",
    "    "
   ]
  },
  {
   "cell_type": "code",
   "execution_count": 2,
   "id": "2ccd9c2c",
   "metadata": {},
   "outputs": [
    {
     "name": "stdout",
     "output_type": "stream",
     "text": [
      "1 -> A\n",
      "2 -> B\n",
      "3 -> C\n",
      "4 -> D\n"
     ]
    }
   ],
   "source": [
    "#dictionary using for loop\n",
    "d = {1 : \"A\",2 : \"B\", 3: \"C\",4:\"D\" }\n",
    "for i, alpha in d.items():\n",
    "    print(i, '->', alpha)"
   ]
  },
  {
   "cell_type": "code",
   "execution_count": 4,
   "id": "6b5313a5",
   "metadata": {},
   "outputs": [
    {
     "name": "stdout",
     "output_type": "stream",
     "text": [
      "Enter the Number: 13\n",
      "13  is Prime\n"
     ]
    }
   ],
   "source": [
    "#prime number\n",
    "n= int(input(\"Enter the Number: \"))\n",
    "for i in range(2,n,1):\n",
    "    if n%i == 0:\n",
    "        flag = 1\n",
    "        break\n",
    "    else:\n",
    "        flag = 0\n",
    "\n",
    "if(flag == 0):\n",
    "    print(n,\" is Prime\")\n",
    "else:\n",
    "    print(n,\" is not prime\")"
   ]
  },
  {
   "cell_type": "code",
   "execution_count": 5,
   "id": "cd7ad7c6",
   "metadata": {},
   "outputs": [
    {
     "name": "stdout",
     "output_type": "stream",
     "text": [
      "11\n",
      "13\n",
      "15\n",
      "17\n",
      "17\n"
     ]
    }
   ],
   "source": [
    "for x in [11,13,15,17]:\n",
    "    print(x)\n",
    "print(x)"
   ]
  },
  {
   "cell_type": "code",
   "execution_count": 6,
   "id": "dd1343f0",
   "metadata": {},
   "outputs": [
    {
     "name": "stdout",
     "output_type": "stream",
     "text": [
      "A\n",
      "m\n",
      "a\n",
      "n\n",
      " \n",
      "M\n",
      "o\n",
      "h\n",
      "a\n",
      "n\n",
      "t\n",
      "y\n",
      " \n",
      "t\n"
     ]
    }
   ],
   "source": [
    "name = 'Aman Mohanty t'\n",
    "\n",
    "for c in name:\n",
    "    print(c)"
   ]
  },
  {
   "cell_type": "code",
   "execution_count": 7,
   "id": "241bcae6",
   "metadata": {},
   "outputs": [
    {
     "name": "stdout",
     "output_type": "stream",
     "text": [
      "A Cricket\n",
      "B Football\n",
      "C Hockey\n",
      "D Badminton\n",
      "E Kabaddi\n"
     ]
    }
   ],
   "source": [
    "sports = {\"A\": \"Cricket\", \"B\": \"Football\", \"C\": \"Hockey\", \"D\": \"Badminton\", \"E\": \"Kabaddi\"}\n",
    "\n",
    "for x in sports:\n",
    "    print(x, sports[x])"
   ]
  },
  {
   "cell_type": "code",
   "execution_count": 8,
   "id": "ba3ab0fa",
   "metadata": {},
   "outputs": [
    {
     "name": "stdout",
     "output_type": "stream",
     "text": [
      "Aman  : Passed\n",
      "Navesh  : Passed\n",
      "Satwik  : Failed\n",
      "Pregs  : Passed\n"
     ]
    }
   ],
   "source": [
    "markList = {'Aman': 96,'Navesh': 86,'Satwik': 29,'Pregs': 94}\n",
    "\n",
    "for person in markList:\n",
    "    if markList.get(person) < 45:\n",
    "        print(person, \" : Failed\")\n",
    "        \n",
    "    elif markList.get(person) > 45:\n",
    "        print(person, \" : Passed\")\n",
    "    else:\n",
    "        print(person, ' : Just Pass' )"
   ]
  },
  {
   "cell_type": "code",
   "execution_count": 16,
   "id": "508cd278",
   "metadata": {},
   "outputs": [
    {
     "name": "stdout",
     "output_type": "stream",
     "text": [
      "5 5 5 5 5 \r\n",
      "4 4 4 4 \r\n",
      "3 3 3 \r\n",
      "2 2 \r\n",
      "1 \r\n"
     ]
    }
   ],
   "source": [
    "\n",
    "for i in range(5, 0, -1):\n",
    "    num = i\n",
    "    for j in range(0, i):\n",
    "        print(num, end=' ')\n",
    "    print(\"\\r\")\n",
    "\n"
   ]
  },
  {
   "cell_type": "code",
   "execution_count": 11,
   "id": "d2808105",
   "metadata": {},
   "outputs": [
    {
     "name": "stdout",
     "output_type": "stream",
     "text": [
      "[0, 1, 4, 9, 16, 25, 36, 49]\n"
     ]
    }
   ],
   "source": []
  },
  {
   "cell_type": "code",
   "execution_count": 26,
   "id": "b6c78972",
   "metadata": {},
   "outputs": [
    {
     "name": "stdout",
     "output_type": "stream",
     "text": [
      "['London', 'Edinburgh', 'Glasgow']\n"
     ]
    }
   ],
   "source": [
    "city_pops = {'London': 8200000,'Cambridge': 130000,'Edinburgh': 420000,'Glasgow': 1200000}\n",
    "\n",
    "big_cities = []\n",
    "for city in city_pops:\n",
    "    if city_pops[city] >= 150000:\n",
    "         big_cities.append(city)\n",
    "\n",
    "print(big_cities)"
   ]
  },
  {
   "cell_type": "code",
   "execution_count": 27,
   "id": "272b671e",
   "metadata": {},
   "outputs": [
    {
     "name": "stdout",
     "output_type": "stream",
     "text": [
      "0 A\n",
      "1 B\n",
      "2 C\n",
      "3 D\n"
     ]
    }
   ],
   "source": [
    "letters = ['A','B','C','D']\n",
    "\n",
    "for i in range(len(letters)):\n",
    "   print(i,letters[i])"
   ]
  },
  {
   "cell_type": "code",
   "execution_count": 28,
   "id": "8e907c02",
   "metadata": {},
   "outputs": [
    {
     "name": "stdout",
     "output_type": "stream",
     "text": [
      "Enter a number: 5\n",
      "15\n"
     ]
    }
   ],
   "source": [
    "#while loop\n",
    "n = int(input(\"Enter a number: \"))\n",
    "sum = 0\n",
    "i = 1\n",
    "while i<= n:\n",
    "    sum = sum + i\n",
    "    i+=1\n",
    "print(sum)"
   ]
  },
  {
   "cell_type": "code",
   "execution_count": 29,
   "id": "35bff62f",
   "metadata": {},
   "outputs": [
    {
     "name": "stdout",
     "output_type": "stream",
     "text": [
      "Sorted array is:\n",
      "[5, 6, 11, 12, 13]\n"
     ]
    }
   ],
   "source": [
    "#insertion sort\n",
    "a = [12, 11, 13, 5, 6]\n",
    "for i in range(1, len(a)):\n",
    " \n",
    "        key = a[i]\n",
    "        j = i-1\n",
    "        while j >=0 and key < a[j] :\n",
    "                a[j+1] = a[j]\n",
    "                j -= 1\n",
    "        a[j+1] = key\n",
    "print (\"Sorted array is:\")\n",
    "print(a)"
   ]
  },
  {
   "cell_type": "code",
   "execution_count": 21,
   "id": "d6d2c506",
   "metadata": {},
   "outputs": [
    {
     "name": "stdout",
     "output_type": "stream",
     "text": [
      "Enter a number: 5\n",
      "15\n"
     ]
    }
   ],
   "source": [
    "#while loop\n",
    "n = int(input(\"Enter a number: \"))\n",
    "sum = 0\n",
    "i = 1\n",
    "while i<= n:\n",
    "    sum = sum + i\n",
    "    i+=1\n",
    "print(sum)"
   ]
  },
  {
   "cell_type": "code",
   "execution_count": null,
   "id": "58431db7",
   "metadata": {},
   "outputs": [],
   "source": []
  },
  {
   "cell_type": "code",
   "execution_count": null,
   "id": "0c178715",
   "metadata": {},
   "outputs": [],
   "source": []
  }
 ],
 "metadata": {
  "kernelspec": {
   "display_name": "Python 3 (ipykernel)",
   "language": "python",
   "name": "python3"
  },
  "language_info": {
   "codemirror_mode": {
    "name": "ipython",
    "version": 3
   },
   "file_extension": ".py",
   "mimetype": "text/x-python",
   "name": "python",
   "nbconvert_exporter": "python",
   "pygments_lexer": "ipython3",
   "version": "3.9.12"
  }
 },
 "nbformat": 4,
 "nbformat_minor": 5
}
