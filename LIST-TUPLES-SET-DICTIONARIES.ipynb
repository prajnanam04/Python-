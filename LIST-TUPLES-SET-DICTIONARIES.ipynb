{
 "cells": [
  {
   "cell_type": "code",
   "execution_count": 2,
   "id": "6a15be59",
   "metadata": {},
   "outputs": [],
   "source": [
    "#LIST \n",
    "a = [1,2,4,6,3]"
   ]
  },
  {
   "cell_type": "code",
   "execution_count": 4,
   "id": "4c835edd",
   "metadata": {},
   "outputs": [
    {
     "name": "stdout",
     "output_type": "stream",
     "text": [
      "[1, 2, 4, 6, 3]\n",
      "4\n"
     ]
    }
   ],
   "source": [
    "print(a)\n",
    "print(a[2])"
   ]
  },
  {
   "cell_type": "code",
   "execution_count": 5,
   "id": "7f83ff81",
   "metadata": {},
   "outputs": [
    {
     "name": "stdout",
     "output_type": "stream",
     "text": [
      "['A', 1, 3, 5, 'Hello']\n"
     ]
    }
   ],
   "source": [
    "#different items\n",
    "a1 = ['A',1,3,5,\"Hello\"]\n",
    "print(a1)"
   ]
  },
  {
   "cell_type": "code",
   "execution_count": 8,
   "id": "cdba0a21",
   "metadata": {},
   "outputs": [
    {
     "name": "stdout",
     "output_type": "stream",
     "text": [
      "length of t is 6\n",
      "number of 0 in t is 3\n"
     ]
    }
   ],
   "source": [
    "#len and count function\n",
    "t = [1,3,5,0,0,0]\n",
    "print(\"length of t is\", len(t))\n",
    "print(\"number of 0 in t is\", t.count(0))"
   ]
  },
  {
   "cell_type": "code",
   "execution_count": 9,
   "id": "be3ff115",
   "metadata": {},
   "outputs": [
    {
     "name": "stdout",
     "output_type": "stream",
     "text": [
      "[123, 54, 92, 87, 33]\n",
      "[123, 54, 33, 87, 33]\n"
     ]
    }
   ],
   "source": [
    "#modifying list\n",
    "x = [123, 54, 92, 87, 33]\n",
    "print(x)\n",
    "x[2] = 33\n",
    "print(x)"
   ]
  },
  {
   "cell_type": "code",
   "execution_count": 10,
   "id": "7765f467",
   "metadata": {},
   "outputs": [],
   "source": [
    "#reading list and operations"
   ]
  },
  {
   "cell_type": "code",
   "execution_count": 17,
   "id": "ca536aed",
   "metadata": {},
   "outputs": [
    {
     "name": "stdout",
     "output_type": "stream",
     "text": [
      "Enter fruit  0  :\n",
      "apple \n",
      "Enter fruit  1  :\n",
      "banana\n",
      "Enter fruit  2  :\n",
      "orange\n",
      "Enter fruit  3  :\n",
      "guava\n",
      "['apple ', 'banana', 'orange', 'guava']\n"
     ]
    }
   ],
   "source": [
    "#READING A LIST \n",
    "fruits = []\n",
    "n = 4\n",
    "for i in range(0,n,1):\n",
    "  print(\"Enter fruit \",i,\" :\")\n",
    "  fruit = input()\n",
    "  fruits.append(fruit)\n",
    "print(fruits)\n"
   ]
  },
  {
   "cell_type": "code",
   "execution_count": 18,
   "id": "cdadd20a",
   "metadata": {},
   "outputs": [
    {
     "name": "stdout",
     "output_type": "stream",
     "text": [
      "['apple ', 'orange', 'guava']\n"
     ]
    }
   ],
   "source": [
    "#removing banana\n",
    "fruits.remove('banana')\n",
    "print(fruits)\n"
   ]
  },
  {
   "cell_type": "code",
   "execution_count": 19,
   "id": "0356c917",
   "metadata": {},
   "outputs": [
    {
     "name": "stdout",
     "output_type": "stream",
     "text": [
      "['apple ', 'orange', 'guava', 'mango']\n"
     ]
    }
   ],
   "source": [
    "#adding mango\n",
    "fruits.append('mango')\n",
    "print(fruits)\n",
    "\n"
   ]
  },
  {
   "cell_type": "code",
   "execution_count": 20,
   "id": "b42c54f1",
   "metadata": {},
   "outputs": [],
   "source": [
    "#deleting index 1\n",
    "del fruits[1]"
   ]
  },
  {
   "cell_type": "code",
   "execution_count": 21,
   "id": "410fffb6",
   "metadata": {},
   "outputs": [
    {
     "name": "stdout",
     "output_type": "stream",
     "text": [
      "['apple ', 'guava', 'mango']\n"
     ]
    }
   ],
   "source": [
    "print(fruits)"
   ]
  },
  {
   "cell_type": "code",
   "execution_count": 23,
   "id": "18529a5a",
   "metadata": {},
   "outputs": [
    {
     "name": "stdout",
     "output_type": "stream",
     "text": [
      "['apple ', 'guava', 'banana', 'mango']\n"
     ]
    }
   ],
   "source": [
    "#inserting banana\n",
    "fruits.insert(2,\"banana\")\n",
    "print(fruits)"
   ]
  },
  {
   "cell_type": "code",
   "execution_count": 24,
   "id": "1a09e073",
   "metadata": {},
   "outputs": [
    {
     "name": "stdout",
     "output_type": "stream",
     "text": [
      "['apple ', 'banana', 'guava', 'mango']\n"
     ]
    }
   ],
   "source": [
    "#sorting \n",
    "\n",
    "fruits.sort()\n",
    "print(fruits)"
   ]
  },
  {
   "cell_type": "code",
   "execution_count": 25,
   "id": "13e2ae85",
   "metadata": {},
   "outputs": [
    {
     "name": "stdout",
     "output_type": "stream",
     "text": [
      "['apple ', 'pears', 'guava', 'mango']\n"
     ]
    }
   ],
   "source": [
    "#modifying list\n",
    "fruits[1] = \"pears\"\n",
    "print(fruits)"
   ]
  },
  {
   "cell_type": "code",
   "execution_count": 26,
   "id": "aedcfa5e",
   "metadata": {},
   "outputs": [
    {
     "name": "stdout",
     "output_type": "stream",
     "text": [
      "t[1:3] is (54, 92)\n",
      "x[2:] is [92, 87, 33]\n",
      "x[:-1] is [123, 54, 92, 87]\n"
     ]
    }
   ],
   "source": [
    "#slicing\n",
    "t = (123, 54, 92, 87, 33)\n",
    "x = [123, 54, 92, 87, 33]\n",
    "print('t[1:3] is', t[1:3])\n",
    "print('x[2:] is', x[2:])\n",
    "print('x[:-1] is', x[:-1])"
   ]
  },
  {
   "cell_type": "code",
   "execution_count": 39,
   "id": "4b0f9f99",
   "metadata": {},
   "outputs": [
    {
     "name": "stdout",
     "output_type": "stream",
     "text": [
      "()\n",
      "('Ala',)\n",
      "(2, 3, False, 'Arg')\n"
     ]
    }
   ],
   "source": [
    "#tupple\n",
    "a = () \n",
    "b = (\"Ala\",)\n",
    "c = (2, 3, False, \"Arg\")\n",
    "\n",
    "print(a)\n",
    "print(b)\n",
    "print(c)\n"
   ]
  },
  {
   "cell_type": "code",
   "execution_count": 28,
   "id": "06027011",
   "metadata": {},
   "outputs": [
    {
     "ename": "TypeError",
     "evalue": "'tuple' object does not support item assignment",
     "output_type": "error",
     "traceback": [
      "\u001b[1;31m---------------------------------------------------------------------------\u001b[0m",
      "\u001b[1;31mTypeError\u001b[0m                                 Traceback (most recent call last)",
      "Input \u001b[1;32mIn [28]\u001b[0m, in \u001b[0;36m<cell line: 2>\u001b[1;34m()\u001b[0m\n\u001b[0;32m      1\u001b[0m \u001b[38;5;66;03m#modifying tupple\u001b[39;00m\n\u001b[1;32m----> 2\u001b[0m a[\u001b[38;5;241m1\u001b[39m] \u001b[38;5;241m=\u001b[39m \u001b[38;5;241m23\u001b[39m\n",
      "\u001b[1;31mTypeError\u001b[0m: 'tuple' object does not support item assignment"
     ]
    }
   ],
   "source": [
    "#modifying tupple\n",
    "a[1] = 23 #tupple cant be modified"
   ]
  },
  {
   "cell_type": "code",
   "execution_count": 35,
   "id": "f6bc80a4",
   "metadata": {},
   "outputs": [
    {
     "name": "stdout",
     "output_type": "stream",
     "text": [
      "{1, 2, 3}\n",
      "set()\n"
     ]
    }
   ],
   "source": [
    "#set\n",
    "l = [1, 2, 3, 2, 3]\n",
    "s = set(l) \n",
    "print(s)\n",
    "e = set() \n",
    "print(e)"
   ]
  },
  {
   "cell_type": "code",
   "execution_count": 36,
   "id": "fab8d8ca",
   "metadata": {},
   "outputs": [
    {
     "name": "stdout",
     "output_type": "stream",
     "text": [
      "{1, 2, 3}\n",
      "number in set: 3\n",
      "{1, 2, 3, 4}\n",
      "{1, 2, 3, 4}\n"
     ]
    }
   ],
   "source": [
    "s = set([1, 2, 3, 2, 3])\n",
    "print(s)\n",
    "print(\"number in set:\", len(s))\n",
    "s.add(4)\n",
    "print(s)\n",
    "s.add(3)\n",
    "print(s)"
   ]
  },
  {
   "cell_type": "code",
   "execution_count": 37,
   "id": "20e65a45",
   "metadata": {},
   "outputs": [
    {
     "name": "stdout",
     "output_type": "stream",
     "text": [
      "{1, 2, 3}\n",
      "{1, 2}\n"
     ]
    }
   ],
   "source": [
    "s = set([1, 2, 3, 2, 3])\n",
    "print(s)\n",
    "s.remove(3)\n",
    "print(s)\n"
   ]
  },
  {
   "cell_type": "code",
   "execution_count": 38,
   "id": "38d624c2",
   "metadata": {},
   "outputs": [
    {
     "name": "stdout",
     "output_type": "stream",
     "text": [
      "Union: {2, 4, 5, 6, 7, 8, 10}\n",
      "Intersection: {4, 6}\n"
     ]
    }
   ],
   "source": [
    "s1 = set([2, 4, 6, 8, 10])\n",
    "s2 = set([4, 5, 6, 7])\n",
    "\n",
    "print(\"Union:\", s1 | s2)\n",
    "print(\"Intersection:\", s1 & s2)"
   ]
  },
  {
   "cell_type": "code",
   "execution_count": null,
   "id": "425488df",
   "metadata": {},
   "outputs": [],
   "source": []
  }
 ],
 "metadata": {
  "kernelspec": {
   "display_name": "Python 3 (ipykernel)",
   "language": "python",
   "name": "python3"
  },
  "language_info": {
   "codemirror_mode": {
    "name": "ipython",
    "version": 3
   },
   "file_extension": ".py",
   "mimetype": "text/x-python",
   "name": "python",
   "nbconvert_exporter": "python",
   "pygments_lexer": "ipython3",
   "version": "3.9.12"
  }
 },
 "nbformat": 4,
 "nbformat_minor": 5
}
