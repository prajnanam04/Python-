{
 "cells": [
  {
   "cell_type": "code",
   "execution_count": 1,
   "id": "0c62d3e4",
   "metadata": {},
   "outputs": [],
   "source": [
    "#creating Phone class\n",
    "\n",
    "class Phone:\n",
    "    def make_call(self):\n",
    "        print(\"Making phone call\")\n",
    "    def play_game(self):\n",
    "        print(\"Playing game\")\n",
    "    "
   ]
  },
  {
   "cell_type": "code",
   "execution_count": 2,
   "id": "b56542ec",
   "metadata": {},
   "outputs": [],
   "source": [
    "# creating an object\n",
    "p1 = Phone()"
   ]
  },
  {
   "cell_type": "code",
   "execution_count": 3,
   "id": "b73ea2c0",
   "metadata": {},
   "outputs": [
    {
     "name": "stdout",
     "output_type": "stream",
     "text": [
      "Making phone call\n",
      "Playing game\n"
     ]
    }
   ],
   "source": [
    "#invoking methods through object\n",
    "\n",
    "p1.make_call()\n",
    "p1.play_game()"
   ]
  },
  {
   "cell_type": "code",
   "execution_count": 4,
   "id": "09efaf3c",
   "metadata": {},
   "outputs": [],
   "source": [
    "#adding parameters to the class\n",
    "\n",
    "class Phone:\n",
    "    def set_color(self,color):\n",
    "        self.color = color\n",
    "    def show_color(self):\n",
    "        return self.color\n",
    "    "
   ]
  },
  {
   "cell_type": "code",
   "execution_count": 5,
   "id": "14667296",
   "metadata": {},
   "outputs": [],
   "source": [
    "p2 = Phone()\n"
   ]
  },
  {
   "cell_type": "code",
   "execution_count": 6,
   "id": "af46c55c",
   "metadata": {},
   "outputs": [],
   "source": [
    "p2.set_color(\"red\")"
   ]
  },
  {
   "cell_type": "code",
   "execution_count": 7,
   "id": "4aef2cd5",
   "metadata": {},
   "outputs": [
    {
     "data": {
      "text/plain": [
       "'red'"
      ]
     },
     "execution_count": 7,
     "metadata": {},
     "output_type": "execute_result"
    }
   ],
   "source": [
    "p2.show_color()"
   ]
  },
  {
   "cell_type": "code",
   "execution_count": 9,
   "id": "0055f452",
   "metadata": {},
   "outputs": [],
   "source": [
    "#constructor in python\n",
    "class Employee:\n",
    "    def __init__(self,name,age,salary,gender):\n",
    "        self.name = name\n",
    "        self.age = age\n",
    "        self.salary =salary\n",
    "        self.gender = gender\n",
    "    def show_details(self):\n",
    "        print(\"Employee name: \",self.name)\n",
    "        print(\"Employee age: \",self.age)\n",
    "        print(\"Salary: \",self.salary)\n",
    "        print(\"Gender: \",self.gender)\n"
   ]
  },
  {
   "cell_type": "code",
   "execution_count": 10,
   "id": "439a05a4",
   "metadata": {},
   "outputs": [],
   "source": [
    "e1 = Employee(\"Prajnanam\",20,100000,\"M\")"
   ]
  },
  {
   "cell_type": "code",
   "execution_count": 11,
   "id": "865850dd",
   "metadata": {},
   "outputs": [
    {
     "name": "stdout",
     "output_type": "stream",
     "text": [
      "Employee name:  Prajnanam\n",
      "Employee age:  20\n",
      "Salary:  100000\n",
      "Gender:  M\n"
     ]
    }
   ],
   "source": [
    "e1.show_details()"
   ]
  },
  {
   "cell_type": "code",
   "execution_count": 12,
   "id": "623cda98",
   "metadata": {},
   "outputs": [],
   "source": [
    "#Inheritance \n",
    "#Creating Parent Class\n",
    "class Vehicle:\n",
    "    def __init__(self,mileage,cost):\n",
    "        self.mileage = mileage\n",
    "        self.cost = cost\n",
    "    def print_details(self):\n",
    "        print(\"Mileage of the vehicle is: \",self.mileage)\n",
    "        print(\"Cost of the vehicle is: \",self.cost)\n",
    "        "
   ]
  },
  {
   "cell_type": "code",
   "execution_count": 13,
   "id": "12419bb4",
   "metadata": {},
   "outputs": [],
   "source": [
    "#creating child class\n",
    "\n",
    "class Car(Vehicle):\n",
    "    def show_car(self):\n",
    "        print(\"I am Car\")\n",
    "        "
   ]
  },
  {
   "cell_type": "code",
   "execution_count": 14,
   "id": "59d025c0",
   "metadata": {},
   "outputs": [],
   "source": [
    "c1 = Car(1000,1000000)"
   ]
  },
  {
   "cell_type": "code",
   "execution_count": 15,
   "id": "d8b390e6",
   "metadata": {},
   "outputs": [
    {
     "name": "stdout",
     "output_type": "stream",
     "text": [
      "Mileage of the vehicle is:  1000\n",
      "Cost of the vehicle is:  1000000\n"
     ]
    }
   ],
   "source": [
    "c1.print_details()\n"
   ]
  },
  {
   "cell_type": "code",
   "execution_count": 16,
   "id": "4cf32914",
   "metadata": {},
   "outputs": [],
   "source": [
    "#Multiple Inheritance\n",
    "\n",
    "class P1:\n",
    "    def assign_s1(self,str1):\n",
    "        self.str1=str1\n",
    "    def show_s1(self):\n",
    "        return self.str1\n"
   ]
  },
  {
   "cell_type": "code",
   "execution_count": 17,
   "id": "42f670d5",
   "metadata": {},
   "outputs": [],
   "source": [
    "class P2:\n",
    "    def assign_s2(self,str2):\n",
    "        self.str2=str2\n",
    "    def show_s2(self):\n",
    "        return self.str2"
   ]
  },
  {
   "cell_type": "code",
   "execution_count": 18,
   "id": "a5cc50ab",
   "metadata": {},
   "outputs": [],
   "source": [
    "class Child(P1,P2):\n",
    "    def assign_s3(self,str3):\n",
    "        self.str3=str3\n",
    "    def show_s3(self):\n",
    "        return self.str3"
   ]
  },
  {
   "cell_type": "code",
   "execution_count": 19,
   "id": "d6958528",
   "metadata": {},
   "outputs": [],
   "source": [
    "child = Child()\n",
    "child.assign_s1(\"I am string of parent 1\")\n",
    "child.assign_s2(\"I am string of parent 2\")\n",
    "child.assign_s3(\"I am a child\")"
   ]
  },
  {
   "cell_type": "code",
   "execution_count": 20,
   "id": "a169ab82",
   "metadata": {},
   "outputs": [
    {
     "data": {
      "text/plain": [
       "'I am string of parent 1'"
      ]
     },
     "execution_count": 20,
     "metadata": {},
     "output_type": "execute_result"
    }
   ],
   "source": [
    "child.show_s1()"
   ]
  },
  {
   "cell_type": "code",
   "execution_count": 21,
   "id": "ae795eb5",
   "metadata": {},
   "outputs": [
    {
     "data": {
      "text/plain": [
       "'I am string of parent 2'"
      ]
     },
     "execution_count": 21,
     "metadata": {},
     "output_type": "execute_result"
    }
   ],
   "source": [
    "child.show_s2()"
   ]
  },
  {
   "cell_type": "code",
   "execution_count": 22,
   "id": "8a5c41d1",
   "metadata": {},
   "outputs": [
    {
     "data": {
      "text/plain": [
       "'I am a child'"
      ]
     },
     "execution_count": 22,
     "metadata": {},
     "output_type": "execute_result"
    }
   ],
   "source": [
    "child.show_s3()"
   ]
  },
  {
   "cell_type": "code",
   "execution_count": 23,
   "id": "22422377",
   "metadata": {},
   "outputs": [],
   "source": [
    "#multilevel inheritance\n",
    "class C1:\n",
    "    def v1(self,c1):\n",
    "        self.c1 = c1  \n",
    "    def view1(self):\n",
    "        return self.c1\n",
    "class C2(C1):\n",
    "    def v2 (self,c2):\n",
    "        self.c2 = c2\n",
    "    def view2(self):\n",
    "        return self.c2\n",
    "class C3(C2): \n",
    "    def v3(self,c3):\n",
    "        self.c3 = c3\n",
    "    def view3(self):\n",
    "        return self.c3"
   ]
  },
  {
   "cell_type": "code",
   "execution_count": 27,
   "id": "27c1644e",
   "metadata": {},
   "outputs": [
    {
     "data": {
      "text/plain": [
       "'Grandfather'"
      ]
     },
     "execution_count": 27,
     "metadata": {},
     "output_type": "execute_result"
    }
   ],
   "source": [
    "t3 = C3()\n",
    "t3.v1(\"Grandfather\")\n",
    "t3.view1()"
   ]
  },
  {
   "cell_type": "code",
   "execution_count": 28,
   "id": "877fe5e0",
   "metadata": {},
   "outputs": [
    {
     "data": {
      "text/plain": [
       "'father'"
      ]
     },
     "execution_count": 28,
     "metadata": {},
     "output_type": "execute_result"
    }
   ],
   "source": [
    "t3.v2(\"father\")\n",
    "t3.view2()"
   ]
  },
  {
   "cell_type": "code",
   "execution_count": 29,
   "id": "76393534",
   "metadata": {},
   "outputs": [
    {
     "data": {
      "text/plain": [
       "'child'"
      ]
     },
     "execution_count": 29,
     "metadata": {},
     "output_type": "execute_result"
    }
   ],
   "source": [
    "t3.v3(\"child\")\n",
    "t3.view3()"
   ]
  },
  {
   "cell_type": "code",
   "execution_count": null,
   "id": "c76aaa24",
   "metadata": {},
   "outputs": [],
   "source": []
  }
 ],
 "metadata": {
  "kernelspec": {
   "display_name": "Python 3 (ipykernel)",
   "language": "python",
   "name": "python3"
  },
  "language_info": {
   "codemirror_mode": {
    "name": "ipython",
    "version": 3
   },
   "file_extension": ".py",
   "mimetype": "text/x-python",
   "name": "python",
   "nbconvert_exporter": "python",
   "pygments_lexer": "ipython3",
   "version": "3.9.12"
  }
 },
 "nbformat": 4,
 "nbformat_minor": 5
}
